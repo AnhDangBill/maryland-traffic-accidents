{
 "cells": [
  {
   "cell_type": "markdown",
   "id": "09b3f3bd",
   "metadata": {},
   "source": [
    "# Preprocessing Notebook\n",
    "This notebook loads and prepares the Maryland traffic accident data."
   ]
  },
  {
   "cell_type": "code",
   "execution_count": null,
   "id": "c8bb2146",
   "metadata": {},
   "outputs": [],
   "source": [
    "import pandas as pd\n",
    "import numpy as np\n",
    "\n",
    "# Load dataset\n",
    "file_path = \"../data/MDTA_Accidents_20250316.csv\"\n",
    "accident_df = pd.read_csv(file_path)\n",
    "\n",
    "# Convert 'Date' to datetime\n",
    "accident_df[\"Date\"] = pd.to_datetime(accident_df[\"Date\"], errors='coerce')\n",
    "accident_df[\"Month_Year\"] = accident_df[\"Date\"].dt.to_period(\"M\")\n",
    "\n",
    "# Extract coordinates from georeferenced column\n",
    "accident_df[['Latitude', 'Longitude']] = accident_df['New Georeferenced Column']    .str.extract(r'\\((.*),\\s(.*)\\)').astype(float)\n",
    "\n",
    "# Extract hour from time\n",
    "accident_df[\"Hour\"] = pd.to_datetime(accident_df[\"Time\"], errors='coerce').dt.hour\n",
    "\n",
    "# Encode 'Accident Type' for modeling\n",
    "accident_df[\"Accident Type\"] = accident_df[\"Accident Type\"].astype(\"category\").cat.codes\n",
    "\n",
    "# Save cleaned version\n",
    "accident_df.to_csv(\"../data/processed_accidents.csv\", index=False)\n",
    "\n",
    "accident_df.head()"
   ]
  }
 ],
 "metadata": {
  "kernelspec": {
   "display_name": "Python 3",
   "language": "python",
   "name": "python3"
  },
  "language_info": {
   "name": "python",
   "version": "3.12.1"
  }
 },
 "nbformat": 4,
 "nbformat_minor": 5
}
