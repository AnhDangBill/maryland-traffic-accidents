{
 "cells": [
  {
   "cell_type": "markdown",
   "id": "eff25a0b",
   "metadata": {},
   "source": [
    "# Modeling Notebook\n",
    "This notebook trains and evaluates machine learning models."
   ]
  },
  {
   "cell_type": "code",
   "execution_count": null,
   "id": "dc2a505f",
   "metadata": {},
   "outputs": [],
   "source": [
    "import pandas as pd\n",
    "from sklearn.model_selection import train_test_split\n",
    "from sklearn.ensemble import RandomForestClassifier, VotingClassifier\n",
    "from sklearn.linear_model import LogisticRegression\n",
    "from sklearn.neural_network import MLPClassifier\n",
    "from sklearn.metrics import accuracy_score\n",
    "from xgboost import XGBClassifier\n",
    "from imblearn.over_sampling import SMOTE\n",
    "from sklearn.preprocessing import LabelEncoder\n",
    "\n",
    "# Load cleaned dataset\n",
    "df = pd.read_csv(\"../data/processed_accidents.csv\")\n",
    "\n",
    "# Drop missing values\n",
    "df = df.dropna(subset=[\"Hour\", \"Latitude\", \"Longitude\", \"Accident Type\"])\n",
    "\n",
    "# Features and target\n",
    "X = df[[\"Hour\", \"Latitude\", \"Longitude\"]]\n",
    "y_raw = df[\"Accident Type\"]\n",
    "\n",
    "# Label encoding\n",
    "le = LabelEncoder()\n",
    "y = le.fit_transform(y_raw)\n",
    "\n",
    "# SMOTE resampling\n",
    "smote = SMOTE(random_state=42, k_neighbors=2)\n",
    "X_resampled, y_resampled = smote.fit_resample(X, y)\n",
    "\n",
    "# Train/test split\n",
    "X_train, X_test, y_train, y_test = train_test_split(X_resampled, y_resampled, test_size=0.2, random_state=42)\n",
    "\n",
    "# Models\n",
    "rf = RandomForestClassifier(n_estimators=200, max_depth=10, random_state=42)\n",
    "rf.fit(X_train, y_train)\n",
    "rf_acc = accuracy_score(y_test, rf.predict(X_test))\n",
    "\n",
    "log_reg = LogisticRegression(max_iter=1000)\n",
    "log_reg.fit(X_train, y_train)\n",
    "log_acc = accuracy_score(y_test, log_reg.predict(X_test))\n",
    "\n",
    "xgb = XGBClassifier(learning_rate=0.1, n_estimators=150, max_depth=6, random_state=42)\n",
    "xgb.fit(X_train, y_train)\n",
    "xgb_acc = accuracy_score(y_test, xgb.predict(X_test))\n",
    "\n",
    "nn = MLPClassifier(hidden_layer_sizes=(128, 64), max_iter=300, random_state=42)\n",
    "nn.fit(X_train, y_train)\n",
    "nn_acc = accuracy_score(y_test, nn.predict(X_test))\n",
    "\n",
    "ensemble = VotingClassifier(estimators=[\n",
    "    ('rf', rf),\n",
    "    ('xgb', xgb),\n",
    "    ('log_reg', log_reg)\n",
    "], voting='soft')\n",
    "ensemble.fit(X_train, y_train)\n",
    "ensemble_acc = accuracy_score(y_test, ensemble.predict(X_test))\n",
    "\n",
    "# Output results\n",
    "print(\"Model Performance Summary:\")\n",
    "print(f\"Random Forest Accuracy:        {rf_acc:.4f}\")\n",
    "print(f\"Logistic Regression Accuracy:  {log_acc:.4f}\")\n",
    "print(f\"XGBoost Accuracy:              {xgb_acc:.4f}\")\n",
    "print(f\"Neural Network Accuracy:       {nn_acc:.4f}\")\n",
    "print(f\"Ensemble Voting Accuracy:      {ensemble_acc:.4f}\")"
   ]
  }
 ],
 "metadata": {
  "kernelspec": {
   "display_name": "Python 3",
   "language": "python",
   "name": "python3"
  },
  "language_info": {
   "name": "python",
   "version": "3.12.1"
  }
 },
 "nbformat": 4,
 "nbformat_minor": 5
}
